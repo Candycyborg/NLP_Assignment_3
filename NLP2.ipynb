{
  "nbformat": 4,
  "nbformat_minor": 0,
  "metadata": {
    "kernelspec": {
      "name": "python3",
      "display_name": "Python 3"
    },
    "language_info": {
      "codemirror_mode": {
        "name": "ipython",
        "version": 3
      },
      "file_extension": ".py",
      "mimetype": "text/x-python",
      "name": "python",
      "nbconvert_exporter": "python",
      "pygments_lexer": "ipython3",
      "version": "3.6.1"
    },
    "colab": {
      "name": "NLP2.ipynb",
      "provenance": []
    },
    "accelerator": "GPU"
  },
  "cells": [
    {
      "cell_type": "code",
      "metadata": {
        "id": "Y9X_1u6G_HZ8",
        "colab_type": "code",
        "colab": {}
      },
      "source": [
        "import numpy as np\n",
        "import sklearn\n",
        "import pandas as pd\n",
        "import string\n",
        "import nltk\n",
        "import re"
      ],
      "execution_count": 0,
      "outputs": []
    },
    {
      "cell_type": "code",
      "metadata": {
        "id": "L7df3ZQc_i3q",
        "colab_type": "code",
        "colab": {}
      },
      "source": [
        "# /from google.colab import drive\n",
        "# drive.mount('/content/drive')"
      ],
      "execution_count": 0,
      "outputs": []
    },
    {
      "cell_type": "code",
      "metadata": {
        "id": "4AX5CqZn_HZ-",
        "colab_type": "code",
        "colab": {}
      },
      "source": [
        "data = open('train.txt',\"r\", encoding=\"utf8\")\n",
        "test_data = open('test.txt',\"r\", encoding=\"utf8\")\n",
        "\n",
        "data=list(data)\n",
        "test=list(test_data)\n",
        "\n",
        "def extract(data):\n",
        "    tweets=[]\n",
        "    sentiments=[]\n",
        "    arr=[]\n",
        "    c=0\n",
        "    handle = 0\n",
        "    for i in data:\n",
        "        if(handle == 1):\n",
        "            handle = 0\n",
        "            continue\n",
        "        if(i==\"\\n\"):\n",
        "            tweets.append(arr)\n",
        "            arr=[]\n",
        "        else:\n",
        "            temp=i.split(\"\\t\")\n",
        "            if(len(temp)==3):\n",
        "                sentiments.append(temp[2])\n",
        "            else:\n",
        "                if temp[0] == '@':\n",
        "                    handle = 1\n",
        "                else:\n",
        "                    arr.append(temp[0].lower())\n",
        "    tweet=[]\n",
        "    for i in tweets:\n",
        "        temp=\"\"\n",
        "        for j in i:\n",
        "            temp+=j\n",
        "            temp+=\" \"\n",
        "        tweet.append(temp[:-1])\n",
        "\n",
        "    tweets=tweet \n",
        "    sent=[]\n",
        "    for i in sentiments:\n",
        "        temp=i[:-1]\n",
        "        if(temp==\"neutral\"):\n",
        "            sent.append(0)\n",
        "        elif(temp==\"positive\"):\n",
        "            sent.append(1)\n",
        "        else:\n",
        "            sent.append(2)  \n",
        "\n",
        "    return (tweets,sent)\n",
        "\n",
        "\n",
        "tweets,sent=extract(data)\n",
        "test_tweets,test_sent = extract(test)"
      ],
      "execution_count": 0,
      "outputs": []
    },
    {
      "cell_type": "markdown",
      "metadata": {
        "id": "xCwXsICnlsVl",
        "colab_type": "text"
      },
      "source": [
        "### **Preprocessing**"
      ]
    },
    {
      "cell_type": "code",
      "metadata": {
        "id": "9LuA0wy9_HaA",
        "colab_type": "code",
        "colab": {}
      },
      "source": [
        "df = pd.DataFrame()\n",
        "df['tweet'] = tweets\n",
        "df['sentiments'] = sent\n",
        "\n",
        "test_df = pd.DataFrame()\n",
        "test_df['tweet'] = test_tweets\n",
        "test_df['sentiments'] = test_sent"
      ],
      "execution_count": 0,
      "outputs": []
    },
    {
      "cell_type": "code",
      "metadata": {
        "id": "tSWNHXWB_HaC",
        "colab_type": "code",
        "outputId": "d8786e8a-8372-4544-ac4b-33189e74cc96",
        "colab": {
          "base_uri": "https://localhost:8080/",
          "height": 105
        }
      },
      "source": [
        "#Removing hashtags\n",
        "\n",
        "def remove_hash(df):\n",
        "    for i in range(len(df['tweet'])):\n",
        "        i_arr = df['tweet'][i].split(\" \")\n",
        "\n",
        "        if '#' in i_arr:\n",
        "            for i in range(len(i_arr)):\n",
        "                if i_arr[i] == '#':\n",
        "                    i_arr[i] = '*'\n",
        "                    i_arr[i+1] = '*'\n",
        "            df['tweet'][i] = \" \".join(i_arr)\n",
        "    return df\n",
        "\n",
        "df = remove_hash(df)\n",
        "test_df = remove_hash(test_df)"
      ],
      "execution_count": 182,
      "outputs": [
        {
          "output_type": "stream",
          "text": [
            "/usr/local/lib/python3.6/dist-packages/ipykernel_launcher.py:11: SettingWithCopyWarning: \n",
            "A value is trying to be set on a copy of a slice from a DataFrame\n",
            "\n",
            "See the caveats in the documentation: http://pandas.pydata.org/pandas-docs/stable/user_guide/indexing.html#returning-a-view-versus-a-copy\n",
            "  # This is added back by InteractiveShellApp.init_path()\n"
          ],
          "name": "stderr"
        }
      ]
    },
    {
      "cell_type": "code",
      "metadata": {
        "id": "n_L-Bxyt_HaE",
        "colab_type": "code",
        "colab": {}
      },
      "source": [
        ""
      ],
      "execution_count": 0,
      "outputs": []
    },
    {
      "cell_type": "code",
      "metadata": {
        "id": "_sk1iQWM_HaG",
        "colab_type": "code",
        "colab": {}
      },
      "source": [
        "PUNCT_TO_REMOVE = string.punctuation\n",
        "def remove_punctuation(text):\n",
        "    return text.translate(str.maketrans('', '', PUNCT_TO_REMOVE))\n",
        "\n",
        "df[\"tweet\"] = df[\"tweet\"].apply(lambda text: remove_punctuation(text))\n",
        "test_df[\"tweet\"] = test_df[\"tweet\"].apply(lambda text: remove_punctuation(text))\n"
      ],
      "execution_count": 0,
      "outputs": []
    },
    {
      "cell_type": "code",
      "metadata": {
        "id": "sG-oPN3h_HaH",
        "colab_type": "code",
        "colab": {}
      },
      "source": [
        "import emoji\n",
        "from emoji import UNICODE_EMOJI"
      ],
      "execution_count": 0,
      "outputs": []
    },
    {
      "cell_type": "code",
      "metadata": {
        "id": "hmPck5HF_HaJ",
        "colab_type": "code",
        "outputId": "ad87ce2e-a586-4207-838e-2c64b505f13d",
        "colab": {
          "base_uri": "https://localhost:8080/",
          "height": 105
        }
      },
      "source": [
        "#replace emojis\n",
        "def is_emoji(s):\n",
        "    count = 0\n",
        "    for emoji in UNICODE_EMOJI:\n",
        "        count += s.count(emoji)\n",
        "        if count > 1:\n",
        "            return False\n",
        "    return bool(count)\n",
        "\n",
        "def replace_emoji(text):\n",
        "    tweet = emoji.demojize(text)\n",
        "    tweet = tweet.replace(\":\",\" \")\n",
        "    tweet = ' '.join(tweet.split())\n",
        "    return tweet\n",
        "\n",
        "for i in range(len(df['tweet'])):\n",
        "    df['tweet'][i] = replace_emoji(df['tweet'][i])"
      ],
      "execution_count": 185,
      "outputs": [
        {
          "output_type": "stream",
          "text": [
            "/usr/local/lib/python3.6/dist-packages/ipykernel_launcher.py:16: SettingWithCopyWarning: \n",
            "A value is trying to be set on a copy of a slice from a DataFrame\n",
            "\n",
            "See the caveats in the documentation: http://pandas.pydata.org/pandas-docs/stable/user_guide/indexing.html#returning-a-view-versus-a-copy\n",
            "  app.launch_new_instance()\n"
          ],
          "name": "stderr"
        }
      ]
    },
    {
      "cell_type": "code",
      "metadata": {
        "id": "Hhhq2OIr_HaL",
        "colab_type": "code",
        "outputId": "c703f35d-eefb-4115-f4fb-ce53f477199c",
        "colab": {
          "base_uri": "https://localhost:8080/",
          "height": 105
        }
      },
      "source": [
        "for i in range(len(test_df['tweet'])):\n",
        "    test_df['tweet'][i] = replace_emoji(test_df['tweet'][i])"
      ],
      "execution_count": 186,
      "outputs": [
        {
          "output_type": "stream",
          "text": [
            "/usr/local/lib/python3.6/dist-packages/ipykernel_launcher.py:2: SettingWithCopyWarning: \n",
            "A value is trying to be set on a copy of a slice from a DataFrame\n",
            "\n",
            "See the caveats in the documentation: http://pandas.pydata.org/pandas-docs/stable/user_guide/indexing.html#returning-a-view-versus-a-copy\n",
            "  \n"
          ],
          "name": "stderr"
        }
      ]
    },
    {
      "cell_type": "code",
      "metadata": {
        "id": "uJhyi-hq_HaM",
        "colab_type": "code",
        "colab": {}
      },
      "source": [
        "from nltk.corpus import stopwords\n",
        "# \", \".join(stopwords.words('english'))"
      ],
      "execution_count": 0,
      "outputs": []
    },
    {
      "cell_type": "code",
      "metadata": {
        "id": "D9dkHZcs_HaO",
        "colab_type": "code",
        "colab": {}
      },
      "source": [
        "STOPWORDS = set(stopwords.words('english'))\n",
        "def remove_stopwords(text):\n",
        "    return \" \".join([word for word in str(text).split() if word not in STOPWORDS])\n",
        "\n",
        "df[\"tweet\"] = df[\"tweet\"].apply(lambda text: remove_stopwords(text))\n",
        "test_df[\"tweet\"] = test_df[\"tweet\"].apply(lambda text: remove_stopwords(text))"
      ],
      "execution_count": 0,
      "outputs": []
    },
    {
      "cell_type": "code",
      "metadata": {
        "scrolled": true,
        "id": "ngvserBe_HaQ",
        "colab_type": "code",
        "outputId": "c09bd29d-589a-413a-cf98-b4783b6beddf",
        "colab": {
          "base_uri": "https://localhost:8080/",
          "height": 195
        }
      },
      "source": [
        "df.head()"
      ],
      "execution_count": 189,
      "outputs": [
        {
          "output_type": "execute_result",
          "data": {
            "text/html": [
              "<div>\n",
              "<style scoped>\n",
              "    .dataframe tbody tr th:only-of-type {\n",
              "        vertical-align: middle;\n",
              "    }\n",
              "\n",
              "    .dataframe tbody tr th {\n",
              "        vertical-align: top;\n",
              "    }\n",
              "\n",
              "    .dataframe thead th {\n",
              "        text-align: right;\n",
              "    }\n",
              "</style>\n",
              "<table border=\"1\" class=\"dataframe\">\n",
              "  <thead>\n",
              "    <tr style=\"text-align: right;\">\n",
              "      <th></th>\n",
              "      <th>tweet</th>\n",
              "      <th>sentiments</th>\n",
              "    </tr>\n",
              "  </thead>\n",
              "  <tbody>\n",
              "    <tr>\n",
              "      <th>0</th>\n",
              "      <td>pakistan ka ghra tauq pakistan israel ko tasle...</td>\n",
              "      <td>2</td>\n",
              "    </tr>\n",
              "    <tr>\n",
              "      <th>1</th>\n",
              "      <td>madarchod mulle ye mathura nahi dikha tha jab ...</td>\n",
              "      <td>2</td>\n",
              "    </tr>\n",
              "    <tr>\n",
              "      <th>2</th>\n",
              "      <td>manya pradhan mantri mahoday shriman narendra ...</td>\n",
              "      <td>1</td>\n",
              "    </tr>\n",
              "    <tr>\n",
              "      <th>3</th>\n",
              "      <td>krishna jcb full trend chal rahi aa</td>\n",
              "      <td>1</td>\n",
              "    </tr>\n",
              "    <tr>\n",
              "      <th>4</th>\n",
              "      <td>loksabha janta sirf modi ko vote de rahi thi n...</td>\n",
              "      <td>1</td>\n",
              "    </tr>\n",
              "  </tbody>\n",
              "</table>\n",
              "</div>"
            ],
            "text/plain": [
              "                                               tweet  sentiments\n",
              "0  pakistan ka ghra tauq pakistan israel ko tasle...           2\n",
              "1  madarchod mulle ye mathura nahi dikha tha jab ...           2\n",
              "2  manya pradhan mantri mahoday shriman narendra ...           1\n",
              "3                krishna jcb full trend chal rahi aa           1\n",
              "4  loksabha janta sirf modi ko vote de rahi thi n...           1"
            ]
          },
          "metadata": {
            "tags": []
          },
          "execution_count": 189
        }
      ]
    },
    {
      "cell_type": "code",
      "metadata": {
        "id": "bQlcWP8o_HaR",
        "colab_type": "code",
        "outputId": "c3845409-bde7-4bc0-8046-793c5eeec79e",
        "colab": {
          "base_uri": "https://localhost:8080/",
          "height": 195
        }
      },
      "source": [
        "test_df.head()"
      ],
      "execution_count": 190,
      "outputs": [
        {
          "output_type": "execute_result",
          "data": {
            "text/html": [
              "<div>\n",
              "<style scoped>\n",
              "    .dataframe tbody tr th:only-of-type {\n",
              "        vertical-align: middle;\n",
              "    }\n",
              "\n",
              "    .dataframe tbody tr th {\n",
              "        vertical-align: top;\n",
              "    }\n",
              "\n",
              "    .dataframe thead th {\n",
              "        text-align: right;\n",
              "    }\n",
              "</style>\n",
              "<table border=\"1\" class=\"dataframe\">\n",
              "  <thead>\n",
              "    <tr style=\"text-align: right;\">\n",
              "      <th></th>\n",
              "      <th>tweet</th>\n",
              "      <th>sentiments</th>\n",
              "    </tr>\n",
              "  </thead>\n",
              "  <tbody>\n",
              "    <tr>\n",
              "      <th>0</th>\n",
              "      <td>rt love looks good maddie ako lang ba yung sob...</td>\n",
              "      <td>0</td>\n",
              "    </tr>\n",
              "    <tr>\n",
              "      <th>1</th>\n",
              "      <td>ye ye ye gonna start another june sour note uh...</td>\n",
              "      <td>0</td>\n",
              "    </tr>\n",
              "    <tr>\n",
              "      <th>2</th>\n",
              "      <td>lyching mein kahna nae chahta qki mere yaha bt...</td>\n",
              "      <td>0</td>\n",
              "    </tr>\n",
              "    <tr>\n",
              "      <th>3</th>\n",
              "      <td>caring bohot jyada caring courier wale bsdk ke...</td>\n",
              "      <td>2</td>\n",
              "    </tr>\n",
              "    <tr>\n",
              "      <th>4</th>\n",
              "      <td>54 nonesense kabhi baymani per bani team kamiy...</td>\n",
              "      <td>1</td>\n",
              "    </tr>\n",
              "  </tbody>\n",
              "</table>\n",
              "</div>"
            ],
            "text/plain": [
              "                                               tweet  sentiments\n",
              "0  rt love looks good maddie ako lang ba yung sob...           0\n",
              "1  ye ye ye gonna start another june sour note uh...           0\n",
              "2  lyching mein kahna nae chahta qki mere yaha bt...           0\n",
              "3  caring bohot jyada caring courier wale bsdk ke...           2\n",
              "4  54 nonesense kabhi baymani per bani team kamiy...           1"
            ]
          },
          "metadata": {
            "tags": []
          },
          "execution_count": 190
        }
      ]
    },
    {
      "cell_type": "code",
      "metadata": {
        "id": "zKkym7Ne_HaT",
        "colab_type": "code",
        "outputId": "9096bd72-5bb3-41d1-811a-40d02b36b5ae",
        "colab": {
          "base_uri": "https://localhost:8080/",
          "height": 105
        }
      },
      "source": [
        "#removing links\n",
        "def removeLinks(df):\n",
        "    for i in range(len(df['tweet'])):\n",
        "        i_arr = df['tweet'][i].split(\" \")\n",
        "        if 'https' in i_arr:\n",
        "            ind = i_arr.index('https')\n",
        "            df['tweet'][i] = \" \".join(i_arr[:ind])\n",
        "    return df\n",
        "\n",
        "df = removeLinks(df)\n",
        "test_df = removeLinks(test_df)"
      ],
      "execution_count": 191,
      "outputs": [
        {
          "output_type": "stream",
          "text": [
            "/usr/local/lib/python3.6/dist-packages/ipykernel_launcher.py:6: SettingWithCopyWarning: \n",
            "A value is trying to be set on a copy of a slice from a DataFrame\n",
            "\n",
            "See the caveats in the documentation: http://pandas.pydata.org/pandas-docs/stable/user_guide/indexing.html#returning-a-view-versus-a-copy\n",
            "  \n"
          ],
          "name": "stderr"
        }
      ]
    },
    {
      "cell_type": "code",
      "metadata": {
        "id": "aAbNPySuJ2nV",
        "colab_type": "code",
        "colab": {},
        "cellView": "form"
      },
      "source": [
        "#@title **Machine Learning Models**"
      ],
      "execution_count": 0,
      "outputs": []
    },
    {
      "cell_type": "code",
      "metadata": {
        "id": "PEkDfQcw1oBX",
        "colab_type": "code",
        "colab": {}
      },
      "source": [
        "import pandas as pd\n",
        "import numpy as np\n",
        "from nltk.tokenize import word_tokenize\n",
        "from nltk import pos_tag\n",
        "from nltk.corpus import stopwords\n",
        "from nltk.stem import WordNetLemmatizer\n",
        "from sklearn.preprocessing import LabelEncoder\n",
        "from collections import defaultdict\n",
        "from nltk.corpus import wordnet as wn\n",
        "from sklearn.feature_extraction.text import TfidfVectorizer\n",
        "from sklearn import model_selection, naive_bayes, svm\n",
        "from sklearn.metrics import accuracy_score\n",
        "from sklearn.metrics import classification_report"
      ],
      "execution_count": 0,
      "outputs": []
    },
    {
      "cell_type": "code",
      "metadata": {
        "id": "YCTbrSir2Yuk",
        "colab_type": "code",
        "colab": {}
      },
      "source": [
        "svm_df = df.copy()\n",
        "svm_df_test = test_df.copy()"
      ],
      "execution_count": 0,
      "outputs": []
    },
    {
      "cell_type": "code",
      "metadata": {
        "id": "L37ho9o41wwo",
        "colab_type": "code",
        "colab": {}
      },
      "source": [
        "svm_df['tweet']= [word_tokenize(entry) for entry in svm_df['tweet']]\n",
        "svm_df_test['tweet']= [word_tokenize(entry) for entry in svm_df_test['tweet']]\n",
        "\n",
        "tag_map = defaultdict(lambda : wn.NOUN)\n",
        "tag_map['J'] = wn.ADJ\n",
        "tag_map['V'] = wn.VERB\n",
        "tag_map['R'] = wn.ADV\n",
        "\n",
        "\n",
        "for index,entry in enumerate(svm_df['tweet']):\n",
        "    Final_words = []\n",
        "    word_Lemmatized = WordNetLemmatizer()\n",
        "    for word, tag in pos_tag(entry):\n",
        "        if word not in stopwords.words('english') and word.isalpha():\n",
        "            word_Final = word_Lemmatized.lemmatize(word,tag_map[tag[0]])\n",
        "            Final_words.append(word_Final)\n",
        "    svm_df.loc[index,'text_final'] = str(Final_words)\n",
        "\n",
        "for index,entry in enumerate(svm_df_test['tweet']):\n",
        "    Final_words = []\n",
        "    word_Lemmatized = WordNetLemmatizer()\n",
        "    for word, tag in pos_tag(entry):\n",
        "        if word not in stopwords.words('english') and word.isalpha():\n",
        "            word_Final = word_Lemmatized.lemmatize(word,tag_map[tag[0]])\n",
        "            Final_words.append(word_Final)\n",
        "    svm_df_test.loc[index,'text_final'] = str(Final_words)"
      ],
      "execution_count": 0,
      "outputs": []
    },
    {
      "cell_type": "code",
      "metadata": {
        "id": "fsiNLS8YL0ad",
        "colab_type": "code",
        "colab": {
          "base_uri": "https://localhost:8080/",
          "height": 105
        },
        "outputId": "8d1e61f8-0afa-45fc-9fc8-135064e2e082"
      },
      "source": [
        "nltk.download('averaged_perceptron_tagger')"
      ],
      "execution_count": 196,
      "outputs": [
        {
          "output_type": "stream",
          "text": [
            "[nltk_data] Downloading package averaged_perceptron_tagger to\n",
            "[nltk_data]     /root/nltk_data...\n",
            "[nltk_data]   Package averaged_perceptron_tagger is already up-to-\n",
            "[nltk_data]       date!\n"
          ],
          "name": "stdout"
        },
        {
          "output_type": "execute_result",
          "data": {
            "text/plain": [
              "True"
            ]
          },
          "metadata": {
            "tags": []
          },
          "execution_count": 196
        }
      ]
    },
    {
      "cell_type": "code",
      "metadata": {
        "id": "psHFCISV2w2J",
        "colab_type": "code",
        "colab": {}
      },
      "source": [
        "Train_X, Train_Y = svm_df['text_final'],svm_df['sentiments']\n",
        "Test_X, Test_Y = svm_df_test['text_final'],svm_df_test['sentiments']"
      ],
      "execution_count": 0,
      "outputs": []
    },
    {
      "cell_type": "code",
      "metadata": {
        "id": "elwzZAOP2zDO",
        "colab_type": "code",
        "colab": {}
      },
      "source": [
        "Encoder = LabelEncoder()\n",
        "Train_Y = Encoder.fit_transform(Train_Y)\n",
        "Test_Y = Encoder.fit_transform(Test_Y)"
      ],
      "execution_count": 0,
      "outputs": []
    },
    {
      "cell_type": "code",
      "metadata": {
        "id": "2i3kAKKa3Ehi",
        "colab_type": "code",
        "colab": {}
      },
      "source": [
        "Tfidf_vect = TfidfVectorizer(max_features=5000)\n",
        "Tfidf_vect.fit(svm_df['text_final'])\n",
        "Train_X_Tfidf = Tfidf_vect.transform(Train_X)\n",
        "Test_X_Tfidf = Tfidf_vect.transform(Test_X)"
      ],
      "execution_count": 0,
      "outputs": []
    },
    {
      "cell_type": "markdown",
      "metadata": {
        "id": "7qr3Ux2YNUOi",
        "colab_type": "text"
      },
      "source": [
        "SVM"
      ]
    },
    {
      "cell_type": "code",
      "metadata": {
        "id": "HnfjrCmS46Cy",
        "colab_type": "code",
        "outputId": "08edc7a1-1e4c-4745-9af5-179c25431153",
        "colab": {
          "base_uri": "https://localhost:8080/",
          "height": 210
        }
      },
      "source": [
        "SVM = svm.SVC(C=1.0, kernel='linear', degree=4, gamma='auto')\n",
        "SVM.fit(Train_X_Tfidf,Train_Y)\n",
        "\n",
        "predictions_SVM = SVM.predict(Test_X_Tfidf)\n",
        "\n",
        "print(\"SVM Accuracy Score -> \",accuracy_score(Test_Y, predictions_SVM)*100)\n",
        "print(classification_report(Test_Y,predictions_SVM))"
      ],
      "execution_count": 200,
      "outputs": [
        {
          "output_type": "stream",
          "text": [
            "SVM Accuracy Score ->  55.48421615837347\n",
            "              precision    recall  f1-score   support\n",
            "\n",
            "           0       0.52      0.55      0.53       754\n",
            "           1       0.57      0.55      0.56       582\n",
            "           2       0.59      0.56      0.57       533\n",
            "\n",
            "    accuracy                           0.55      1869\n",
            "   macro avg       0.56      0.56      0.56      1869\n",
            "weighted avg       0.56      0.55      0.56      1869\n",
            "\n"
          ],
          "name": "stdout"
        }
      ]
    },
    {
      "cell_type": "code",
      "metadata": {
        "id": "7-am7-oCfVC8",
        "colab_type": "code",
        "colab": {}
      },
      "source": [
        ""
      ],
      "execution_count": 0,
      "outputs": []
    },
    {
      "cell_type": "markdown",
      "metadata": {
        "id": "0lpCbsD5NXk9",
        "colab_type": "text"
      },
      "source": [
        "Logistic Regression"
      ]
    },
    {
      "cell_type": "code",
      "metadata": {
        "id": "61bAG2oi6MMk",
        "colab_type": "code",
        "outputId": "a65a9c45-8ed2-495f-b471-7d7550088dcb",
        "colab": {
          "base_uri": "https://localhost:8080/",
          "height": 301
        }
      },
      "source": [
        "from sklearn.linear_model import LogisticRegression as LR\n",
        "model = LR()\n",
        "model.fit(Train_X_Tfidf,Train_Y)\n",
        "predictions = model.predict(Test_X_Tfidf)\n",
        "print(accuracy_score(Test_Y,predictions))\n",
        "print(classification_report(Test_Y,predictions))"
      ],
      "execution_count": 201,
      "outputs": [
        {
          "output_type": "stream",
          "text": [
            "/usr/local/lib/python3.6/dist-packages/sklearn/linear_model/logistic.py:432: FutureWarning: Default solver will be changed to 'lbfgs' in 0.22. Specify a solver to silence this warning.\n",
            "  FutureWarning)\n",
            "/usr/local/lib/python3.6/dist-packages/sklearn/linear_model/logistic.py:469: FutureWarning: Default multi_class will be changed to 'auto' in 0.22. Specify the multi_class option to silence this warning.\n",
            "  \"this warning.\", FutureWarning)\n"
          ],
          "name": "stderr"
        },
        {
          "output_type": "stream",
          "text": [
            "0.5516318887105404\n",
            "              precision    recall  f1-score   support\n",
            "\n",
            "           0       0.52      0.51      0.52       754\n",
            "           1       0.57      0.59      0.58       582\n",
            "           2       0.56      0.56      0.56       533\n",
            "\n",
            "    accuracy                           0.55      1869\n",
            "   macro avg       0.55      0.56      0.55      1869\n",
            "weighted avg       0.55      0.55      0.55      1869\n",
            "\n"
          ],
          "name": "stdout"
        }
      ]
    },
    {
      "cell_type": "markdown",
      "metadata": {
        "id": "yZE1h58XN4Ws",
        "colab_type": "text"
      },
      "source": [
        "### **Neural Approach**"
      ]
    },
    {
      "cell_type": "code",
      "metadata": {
        "id": "hbXkz8O0_HaX",
        "colab_type": "code",
        "colab": {}
      },
      "source": [
        "from keras.preprocessing.text import Tokenizer\n",
        "from keras.preprocessing.sequence import pad_sequences\n",
        "\n",
        "from keras.layers import Input, Embedding, Activation, Flatten, Dense, LSTM\n",
        "from keras.layers import Conv1D, MaxPooling1D, Dropout\n",
        "from keras.models import Model"
      ],
      "execution_count": 0,
      "outputs": []
    },
    {
      "cell_type": "code",
      "metadata": {
        "id": "rcYi6AWMz17i",
        "colab_type": "code",
        "colab": {}
      },
      "source": [
        "max_len = 500"
      ],
      "execution_count": 0,
      "outputs": []
    },
    {
      "cell_type": "code",
      "metadata": {
        "id": "0i_8D5cn_HaZ",
        "colab_type": "code",
        "colab": {}
      },
      "source": [
        "train_texts = df['tweet'].values\n",
        "train_texts = [s.lower()[:max_len] for s in train_texts]\n",
        "\n",
        "test_texts = test_df['tweet'].values\n",
        "test_texts = [s.lower()[:max_len] for s in test_texts]"
      ],
      "execution_count": 0,
      "outputs": []
    },
    {
      "cell_type": "code",
      "metadata": {
        "id": "_uVAESbE_Haa",
        "colab_type": "code",
        "colab": {}
      },
      "source": [
        "# Tokenizer\n",
        "tk = Tokenizer(num_words=None, char_level=True, oov_token='UNK')\n",
        "tk.fit_on_texts(train_texts)\n",
        "alphabet = \"abcdefghijklmnopqrstuvwxyz0123456789\"\n",
        "char_dict = {}\n",
        "for i, char in enumerate(alphabet):\n",
        "    char_dict[char] = i + 1\n",
        "\n",
        "tk.word_index = char_dict.copy()\n",
        "tk.word_index[tk.oov_token] = max(char_dict.values()) + 1\n",
        "train_sequences = tk.texts_to_sequences(train_texts)\n",
        "test_texts = tk.texts_to_sequences(test_texts)"
      ],
      "execution_count": 0,
      "outputs": []
    },
    {
      "cell_type": "code",
      "metadata": {
        "id": "JkZyyjac_Hac",
        "colab_type": "code",
        "colab": {}
      },
      "source": [
        "train_data = pad_sequences(train_sequences, maxlen=max_len, padding='post')\n",
        "test_data = pad_sequences(test_texts, maxlen=max_len, padding='post')\n",
        "\n",
        "train_data = np.array(train_data, dtype='float32')\n",
        "test_data = np.array(test_data, dtype='float32')\n",
        "\n",
        "train_class_list = df['sentiments'].values\n",
        "\n",
        "test_class_list = test_df['sentiments'].values\n",
        "\n",
        "from keras.utils import to_categorical\n",
        "\n",
        "train_classes = to_categorical(train_class_list)\n",
        "test_classes = to_categorical(test_class_list)"
      ],
      "execution_count": 0,
      "outputs": []
    },
    {
      "cell_type": "code",
      "metadata": {
        "id": "ic27TMSEPHzh",
        "colab_type": "code",
        "colab": {}
      },
      "source": [
        "from keras import backend as K\n",
        "\n",
        "def recall_m(y_true, y_pred):\n",
        "        true_positives = K.sum(K.round(K.clip(y_true * y_pred, 0, 1)))\n",
        "        possible_positives = K.sum(K.round(K.clip(y_true, 0, 1)))\n",
        "        recall = true_positives / (possible_positives + K.epsilon())\n",
        "        return recall\n",
        "\n",
        "def precision_m(y_true, y_pred):\n",
        "        true_positives = K.sum(K.round(K.clip(y_true * y_pred, 0, 1)))\n",
        "        predicted_positives = K.sum(K.round(K.clip(y_pred, 0, 1)))\n",
        "        precision = true_positives / (predicted_positives + K.epsilon())\n",
        "        return precision\n",
        "\n",
        "def f1_m(y_true, y_pred):\n",
        "    precision = precision_m(y_true, y_pred)\n",
        "    recall = recall_m(y_true, y_pred)\n",
        "    return 2*((precision*recall)/(precision+recall+K.epsilon()))"
      ],
      "execution_count": 0,
      "outputs": []
    },
    {
      "cell_type": "markdown",
      "metadata": {
        "id": "0nye4M18OK0r",
        "colab_type": "text"
      },
      "source": [
        "### **Char - Level CNN**"
      ]
    },
    {
      "cell_type": "markdown",
      "metadata": {
        "id": "JghOpXIraSqU",
        "colab_type": "text"
      },
      "source": [
        "### Model 1"
      ]
    },
    {
      "cell_type": "code",
      "metadata": {
        "scrolled": true,
        "id": "ckBGPuEF_Hag",
        "colab_type": "code",
        "outputId": "6a11ac31-817c-4ac2-c406-b86a461ac388",
        "colab": {
          "base_uri": "https://localhost:8080/",
          "height": 967
        }
      },
      "source": [
        "input_size = max_len\n",
        "vocab_size = len(tk.word_index)\n",
        "embedding_size = 37\n",
        "\n",
        "fully_connected_layers = [1024, 1024]\n",
        "num_of_classes = 3\n",
        "dropout_p = 0.5\n",
        "optimizer = 'adam'\n",
        "loss = 'categorical_crossentropy'\n",
        "\n",
        "embedding_weights = []  \n",
        "embedding_weights.append(np.zeros(vocab_size)) \n",
        "\n",
        "for char, i in tk.word_index.items(): \n",
        "    onehot = np.zeros(vocab_size)\n",
        "    onehot[i - 1] = 1\n",
        "    embedding_weights.append(onehot)\n",
        "\n",
        "embedding_weights = np.array(embedding_weights)\n",
        "embedding_layer = Embedding(vocab_size + 1, embedding_size, input_length=input_size, weights=[embedding_weights])\n",
        "\n",
        "\n",
        "inputs = Input(shape=(input_size,), name='input', dtype='int64')\n",
        "x = embedding_layer(inputs)\n",
        "\n",
        "for filter_num, filter_size, pooling_size in [[256, 7, 3], [256, 7, 3], [256, 3, -1], [256, 3, -1],[256, 3, -1], [256, 3, 3]]:\n",
        "    x = Conv1D(filter_num, filter_size)(x)\n",
        "    x = Activation('relu')(x)\n",
        "    if pooling_size != -1:\n",
        "        x = MaxPooling1D(pool_size=pooling_size)(x)\n",
        "\n",
        "x = LSTM(256, dropout=0.2, recurrent_dropout=0.2, return_sequences=False)(x)\n",
        "\n",
        "for dense_size in fully_connected_layers:\n",
        "    x = Dense(dense_size, activation='relu')(x)\n",
        "    x = Dropout(dropout_p)(x)\n",
        "\n",
        "predictions = Dense(num_of_classes, activation='softmax')(x)\n",
        "\n",
        "model = Model(inputs=inputs, outputs=predictions)\n",
        "\n",
        "model.compile(optimizer='adam', loss='categorical_crossentropy', metrics=['acc',f1_m,precision_m, recall_m])\n",
        "\n",
        "model.summary()\n",
        "\n",
        "indices = np.arange(train_data.shape[0])\n",
        "np.random.shuffle(indices)\n",
        "\n",
        "x_train = train_data[indices]\n",
        "y_train = train_classes[indices]\n",
        "\n",
        "x_test = test_data\n",
        "y_test = test_classes"
      ],
      "execution_count": 215,
      "outputs": [
        {
          "output_type": "stream",
          "text": [
            "Model: \"model_24\"\n",
            "_________________________________________________________________\n",
            "Layer (type)                 Output Shape              Param #   \n",
            "=================================================================\n",
            "input (InputLayer)           (None, 500)               0         \n",
            "_________________________________________________________________\n",
            "embedding_28 (Embedding)     (None, 500, 37)           1406      \n",
            "_________________________________________________________________\n",
            "conv1d_156 (Conv1D)          (None, 494, 256)          66560     \n",
            "_________________________________________________________________\n",
            "activation_156 (Activation)  (None, 494, 256)          0         \n",
            "_________________________________________________________________\n",
            "max_pooling1d_80 (MaxPooling (None, 164, 256)          0         \n",
            "_________________________________________________________________\n",
            "conv1d_157 (Conv1D)          (None, 158, 256)          459008    \n",
            "_________________________________________________________________\n",
            "activation_157 (Activation)  (None, 158, 256)          0         \n",
            "_________________________________________________________________\n",
            "max_pooling1d_81 (MaxPooling (None, 52, 256)           0         \n",
            "_________________________________________________________________\n",
            "conv1d_158 (Conv1D)          (None, 50, 256)           196864    \n",
            "_________________________________________________________________\n",
            "activation_158 (Activation)  (None, 50, 256)           0         \n",
            "_________________________________________________________________\n",
            "conv1d_159 (Conv1D)          (None, 48, 256)           196864    \n",
            "_________________________________________________________________\n",
            "activation_159 (Activation)  (None, 48, 256)           0         \n",
            "_________________________________________________________________\n",
            "conv1d_160 (Conv1D)          (None, 46, 256)           196864    \n",
            "_________________________________________________________________\n",
            "activation_160 (Activation)  (None, 46, 256)           0         \n",
            "_________________________________________________________________\n",
            "conv1d_161 (Conv1D)          (None, 44, 256)           196864    \n",
            "_________________________________________________________________\n",
            "activation_161 (Activation)  (None, 44, 256)           0         \n",
            "_________________________________________________________________\n",
            "max_pooling1d_82 (MaxPooling (None, 14, 256)           0         \n",
            "_________________________________________________________________\n",
            "lstm_15 (LSTM)               (None, 256)               525312    \n",
            "_________________________________________________________________\n",
            "dense_73 (Dense)             (None, 1024)              263168    \n",
            "_________________________________________________________________\n",
            "dropout_49 (Dropout)         (None, 1024)              0         \n",
            "_________________________________________________________________\n",
            "dense_74 (Dense)             (None, 1024)              1049600   \n",
            "_________________________________________________________________\n",
            "dropout_50 (Dropout)         (None, 1024)              0         \n",
            "_________________________________________________________________\n",
            "dense_75 (Dense)             (None, 3)                 3075      \n",
            "=================================================================\n",
            "Total params: 3,155,585\n",
            "Trainable params: 3,155,585\n",
            "Non-trainable params: 0\n",
            "_________________________________________________________________\n"
          ],
          "name": "stdout"
        }
      ]
    },
    {
      "cell_type": "code",
      "metadata": {
        "id": "6D0XjhNS_Hak",
        "colab_type": "code",
        "outputId": "58f02e25-b09d-4ea0-90bb-624ee1253a0c",
        "colab": {
          "base_uri": "https://localhost:8080/",
          "height": 424
        }
      },
      "source": [
        "model.fit(x_train, y_train,batch_size=128,epochs=10, verbose=1, validation_split=0.2)"
      ],
      "execution_count": 216,
      "outputs": [
        {
          "output_type": "stream",
          "text": [
            "Train on 12104 samples, validate on 3027 samples\n",
            "Epoch 1/10\n",
            "12104/12104 [==============================] - 15s 1ms/step - loss: 1.0947 - acc: 0.3736 - f1_m: 0.0061 - precision_m: 0.0690 - recall_m: 0.0037 - val_loss: 1.0949 - val_acc: 0.3693 - val_f1_m: 0.0000e+00 - val_precision_m: 0.0000e+00 - val_recall_m: 0.0000e+00\n",
            "Epoch 2/10\n",
            "12104/12104 [==============================] - 6s 482us/step - loss: 1.0950 - acc: 0.3733 - f1_m: 0.0000e+00 - precision_m: 0.0000e+00 - recall_m: 0.0000e+00 - val_loss: 1.0941 - val_acc: 0.3693 - val_f1_m: 0.0000e+00 - val_precision_m: 0.0000e+00 - val_recall_m: 0.0000e+00\n",
            "Epoch 3/10\n",
            "12104/12104 [==============================] - 6s 485us/step - loss: 1.0920 - acc: 0.3758 - f1_m: 0.0032 - precision_m: 0.0382 - recall_m: 0.0017 - val_loss: 1.0454 - val_acc: 0.4351 - val_f1_m: 0.0000e+00 - val_precision_m: 0.0000e+00 - val_recall_m: 0.0000e+00\n",
            "Epoch 4/10\n",
            "12104/12104 [==============================] - 6s 488us/step - loss: 1.0211 - acc: 0.4512 - f1_m: 0.1827 - precision_m: 0.5094 - recall_m: 0.1197 - val_loss: 0.9742 - val_acc: 0.5061 - val_f1_m: 0.3767 - val_precision_m: 0.5791 - val_recall_m: 0.2798\n",
            "Epoch 5/10\n",
            "12104/12104 [==============================] - 6s 483us/step - loss: 0.9343 - acc: 0.5403 - f1_m: 0.3853 - precision_m: 0.6329 - recall_m: 0.2860 - val_loss: 0.9120 - val_acc: 0.5543 - val_f1_m: 0.4577 - val_precision_m: 0.6301 - val_recall_m: 0.3604\n",
            "Epoch 6/10\n",
            "12104/12104 [==============================] - 6s 481us/step - loss: 0.8722 - acc: 0.5858 - f1_m: 0.5061 - precision_m: 0.6443 - recall_m: 0.4205 - val_loss: 0.9039 - val_acc: 0.5623 - val_f1_m: 0.5129 - val_precision_m: 0.5947 - val_recall_m: 0.4513\n",
            "Epoch 7/10\n",
            "12104/12104 [==============================] - 6s 479us/step - loss: 0.8077 - acc: 0.6374 - f1_m: 0.6073 - precision_m: 0.6671 - recall_m: 0.5587 - val_loss: 0.9044 - val_acc: 0.5646 - val_f1_m: 0.5434 - val_precision_m: 0.5825 - val_recall_m: 0.5094\n",
            "Epoch 8/10\n",
            "12104/12104 [==============================] - 6s 479us/step - loss: 0.7299 - acc: 0.6852 - f1_m: 0.6717 - precision_m: 0.7018 - recall_m: 0.6445 - val_loss: 0.9050 - val_acc: 0.5682 - val_f1_m: 0.5470 - val_precision_m: 0.6019 - val_recall_m: 0.5018\n",
            "Epoch 9/10\n",
            "12104/12104 [==============================] - 6s 483us/step - loss: 0.6575 - acc: 0.7310 - f1_m: 0.7267 - precision_m: 0.7439 - recall_m: 0.7106 - val_loss: 0.9716 - val_acc: 0.5748 - val_f1_m: 0.5660 - val_precision_m: 0.5823 - val_recall_m: 0.5507\n",
            "Epoch 10/10\n",
            "12104/12104 [==============================] - 6s 485us/step - loss: 0.6027 - acc: 0.7628 - f1_m: 0.7612 - precision_m: 0.7736 - recall_m: 0.7493 - val_loss: 1.0004 - val_acc: 0.5814 - val_f1_m: 0.5741 - val_precision_m: 0.5841 - val_recall_m: 0.5646\n"
          ],
          "name": "stdout"
        },
        {
          "output_type": "execute_result",
          "data": {
            "text/plain": [
              "<keras.callbacks.History at 0x7f9f020ef0b8>"
            ]
          },
          "metadata": {
            "tags": []
          },
          "execution_count": 216
        }
      ]
    },
    {
      "cell_type": "code",
      "metadata": {
        "id": "Y-1NK_orwrCm",
        "colab_type": "code",
        "colab": {
          "base_uri": "https://localhost:8080/",
          "height": 34
        },
        "outputId": "7f2d3c0e-906d-4719-fdb0-d636c6ba54c1"
      },
      "source": [
        "loss, accuracy, f1_score, precision, recall = model.evaluate(x_test, y_test, verbose=1)"
      ],
      "execution_count": 217,
      "outputs": [
        {
          "output_type": "stream",
          "text": [
            "1869/1869 [==============================] - 1s 448us/step\n"
          ],
          "name": "stdout"
        }
      ]
    },
    {
      "cell_type": "code",
      "metadata": {
        "id": "YqHz39IUjw7G",
        "colab_type": "code",
        "colab": {
          "base_uri": "https://localhost:8080/",
          "height": 1000
        },
        "outputId": "0180f364-4da1-426a-cea3-d5e5e2512fc1"
      },
      "source": [
        "from keras.utils import plot_model\n",
        "plot_model(model, to_file='model.png')"
      ],
      "execution_count": 221,
      "outputs": [
        {
          "output_type": "execute_result",
          "data": {
            "image/png": "[encoded data removed]",
            "text/plain": [
              "<IPython.core.display.Image object>"
            ]
          },
          "metadata": {
            "tags": []
          },
          "execution_count": 221
        }
      ]
    },
    {
      "cell_type": "code",
      "metadata": {
        "id": "I2JZW-uIxa5j",
        "colab_type": "code",
        "outputId": "be24120d-64bc-4e94-e585-b7f0e39e9fca",
        "colab": {
          "base_uri": "https://localhost:8080/",
          "height": 140
        }
      },
      "source": [
        "print(\"Accuracy:\", accuracy)\n",
        "print(\"\\nF1-Score:\", f1_score)\n",
        "print(\"\\nPrecision:\", precision)\n",
        "print(\"\\nRecall:\", recall)"
      ],
      "execution_count": 218,
      "outputs": [
        {
          "output_type": "stream",
          "text": [
            "Accuracy: 0.5238095239689798\n",
            "\n",
            "F1-Score: 0.5170907742075259\n",
            "\n",
            "Precision: 0.5264892727694708\n",
            "\n",
            "Recall: 0.5082932050818744\n"
          ],
          "name": "stdout"
        }
      ]
    },
    {
      "cell_type": "code",
      "metadata": {
        "id": "dFmPNLp0UGoL",
        "colab_type": "code",
        "colab": {}
      },
      "source": [
        "predictions = model.predict(x_test)\n",
        "y_pred = [np.argmax(j) for j in predictions]\n",
        "y_test_mod = [np.argmax(j) for j in y_test]"
      ],
      "execution_count": 0,
      "outputs": []
    },
    {
      "cell_type": "code",
      "metadata": {
        "id": "eLDbOw5cV0c6",
        "colab_type": "code",
        "colab": {
          "base_uri": "https://localhost:8080/",
          "height": 193
        },
        "outputId": "abd46040-fab5-435c-d3a9-4cfa0fca066e"
      },
      "source": [
        "print(classification_report(y_test_mod, y_pred))"
      ],
      "execution_count": 220,
      "outputs": [
        {
          "output_type": "stream",
          "text": [
            "              precision    recall  f1-score   support\n",
            "\n",
            "           0       0.49      0.52      0.51       754\n",
            "           1       0.57      0.55      0.56       582\n",
            "           2       0.52      0.51      0.51       533\n",
            "\n",
            "    accuracy                           0.52      1869\n",
            "   macro avg       0.53      0.52      0.53      1869\n",
            "weighted avg       0.52      0.52      0.52      1869\n",
            "\n"
          ],
          "name": "stdout"
        }
      ]
    },
    {
      "cell_type": "code",
      "metadata": {
        "id": "j-atWBWZV5ih",
        "colab_type": "code",
        "colab": {}
      },
      "source": [
        ""
      ],
      "execution_count": 0,
      "outputs": []
    }
  ]
}